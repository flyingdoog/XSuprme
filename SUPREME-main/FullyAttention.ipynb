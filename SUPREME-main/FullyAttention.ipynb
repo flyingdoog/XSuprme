{
 "cells": [
  {
   "cell_type": "code",
   "execution_count": 1,
   "id": "c534fb23",
   "metadata": {},
   "outputs": [
    {
     "name": "stdout",
     "output_type": "stream",
     "text": [
      "SUPREME is setting up!\n"
     ]
    }
   ],
   "source": [
    "from lib import module\n",
    "import time\n",
    "import os, itertools\n",
    "import pickle\n",
    "from sklearn.metrics import f1_score, accuracy_score\n",
    "import statistics\n",
    "from sklearn.svm import SVC\n",
    "from xgboost import XGBClassifier\n",
    "from sklearn.ensemble import RandomForestClassifier\n",
    "from sklearn.neural_network import MLPClassifier\n",
    "from sklearn.model_selection import train_test_split\n",
    "from sklearn.model_selection import RepeatedStratifiedKFold, train_test_split, RandomizedSearchCV, GridSearchCV\n",
    "import pandas as pd\n",
    "import numpy as np\n",
    "from torch_geometric.data import Data\n",
    "import os\n",
    "import torch\n",
    "import argparse\n",
    "from tqdm import tqdm\n",
    "import errno\n",
    "import warnings\n",
    "warnings.filterwarnings(\"ignore\", category=FutureWarning)\n",
    "warnings.filterwarnings(\"ignore\", category=UserWarning)\n",
    "\n",
    "\n",
    "base_path = ''\n",
    "feature_networks_integration = ['clinical', 'cna', 'exp','coe','met','mut'] # datatypes to concatanate node features from\n",
    "learning_rate = 0.001\n",
    "hid_size = 128\n",
    "\n",
    "# optimize for optional feature selection of node features\n",
    "feature_selection_per_network = [False, False, False,False, False, False]\n",
    "top_features_per_network = [50, 50, 50,50,50,50]\n",
    "optional_feat_selection = False\n",
    "boruta_runs = 100\n",
    "boruta_top_features = 50\n",
    "\n",
    "\n",
    "# fixed\n",
    "max_epochs = 500\n",
    "min_epochs = 200\n",
    "patience = 30\n",
    "\n",
    "# fixed to get the same results from the tool each time\n",
    "random_state = 404\n",
    "\n",
    "# SUPREME run\n",
    "print('SUPREME is setting up!')\n",
    "\n",
    "dataset_name = 'full_data'\n",
    "\n",
    "path = base_path + \"data/\" + dataset_name\n",
    "if not os.path.exists(path):\n",
    "    raise FileNotFoundError(errno.ENOENT, os.strerror(errno.ENOENT), path)\n",
    "        \n",
    "device = torch.device('cuda:1')"
   ]
  },
  {
   "cell_type": "code",
   "execution_count": 2,
   "id": "8499366e",
   "metadata": {},
   "outputs": [
    {
     "name": "stdout",
     "output_type": "stream",
     "text": [
      "use pre-defined split\n",
      "(1378, 14)\n",
      "(1378, 1003)\n",
      "(1378, 1046)\n",
      "(1378, 49)\n",
      "(1378, 1058)\n",
      "(1378, 173)\n"
     ]
    }
   ],
   "source": [
    "criterion = torch.nn.CrossEntropyLoss()\n",
    "data_path_node =  base_path + 'data/' + dataset_name +'/'\n",
    "run_name = 'SUPREME_'+  dataset_name + '_results'\n",
    "save_path = base_path + run_name + '/'\n",
    "\n",
    "if not os.path.exists(base_path + run_name):\n",
    "    os.makedirs(base_path + run_name + '/')\n",
    "\n",
    "file = base_path + 'data/' + dataset_name +'/labels.pkl'\n",
    "with open(file, 'rb') as f:\n",
    "    labels = pickle.load(f)\n",
    "\n",
    "file = base_path + 'data/' + dataset_name + '/mask_values.pkl'\n",
    "if os.path.exists(file):\n",
    "    with open(file, 'rb') as f:\n",
    "        train_valid_idx, test_idx = pickle.load(f)\n",
    "    print('use pre-defined split')\n",
    "else:\n",
    "    train_valid_idx, test_idx= train_test_split(np.arange(len(labels)), test_size=0.20, shuffle=True, stratify=labels)\n",
    "    print('use random split')\n",
    "start = time.time()\n",
    "\n",
    "    \n",
    "x_lists = []\n",
    "for netw in feature_networks_integration:\n",
    "    file = base_path + 'data/' + dataset_name +'/'+ netw +'.pkl'\n",
    "    with open(file, 'rb') as f:\n",
    "        feat = pickle.load(f)\n",
    "        values = feat.values\n",
    "        x_lists.append(values)\n",
    "        print(values.shape)\n",
    "new_x = torch.tensor(np.concatenate(x_lists,-1),dtype=torch.float32).to(device)\n",
    "\n",
    "\n",
    "train_idx,valid_idx = train_test_split(train_valid_idx,test_size=0.2)\n",
    "train_mask = np.array([i in set(train_idx) for i in range(new_x.shape[0])])\n",
    "valid_mask = np.array([i in set(valid_idx) for i in range(new_x.shape[0])])\n",
    "test_mask = np.array([i in set(test_idx) for i in range(new_x.shape[0])])\n",
    "y_test = pd.DataFrame(labels[test_mask].cpu().numpy()).values.ravel()\n",
    "\n",
    "in_size = new_x.shape[1]\n",
    "out_size = torch.unique(labels).shape[0]"
   ]
  },
  {
   "cell_type": "code",
   "execution_count": 8,
   "id": "27448e39",
   "metadata": {},
   "outputs": [
    {
     "data": {
      "text/plain": [
       "torch.Size([1378, 3343])"
      ]
     },
     "execution_count": 8,
     "metadata": {},
     "output_type": "execute_result"
    }
   ],
   "source": [
    "new_x.shape\n"
   ]
  },
  {
   "cell_type": "code",
   "execution_count": null,
   "id": "18342fd1",
   "metadata": {},
   "outputs": [],
   "source": []
  }
 ],
 "metadata": {
  "kernelspec": {
   "display_name": "Python 3 (ipykernel)",
   "language": "python",
   "name": "python3"
  },
  "language_info": {
   "codemirror_mode": {
    "name": "ipython",
    "version": 3
   },
   "file_extension": ".py",
   "mimetype": "text/x-python",
   "name": "python",
   "nbconvert_exporter": "python",
   "pygments_lexer": "ipython3",
   "version": "3.9.16"
  }
 },
 "nbformat": 4,
 "nbformat_minor": 5
}
